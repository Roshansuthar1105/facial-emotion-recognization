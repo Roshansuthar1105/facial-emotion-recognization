{
 "cells": [
  {
   "cell_type": "code",
   "execution_count": 1,
   "id": "6a641286-2a8e-4e39-b184-d2a980f68214",
   "metadata": {},
   "outputs": [],
   "source": [
    "import numpy as np\n",
    "import pandas as pd \n",
    "from PIL import Image\n",
    "from tqdm import tqdm\n",
    "import os"
   ]
  },
  {
   "cell_type": "code",
   "execution_count": 3,
   "id": "16f22fa5-a2d9-4e19-9027-33a0af6cacef",
   "metadata": {},
   "outputs": [],
   "source": [
    "# convert string to integer\n",
    "def atoi(s):\n",
    "    n = 0\n",
    "    for i in s:\n",
    "        n = n*10 + ord(i) - ord(\"0\")\n",
    "    return n"
   ]
  },
  {
   "cell_type": "code",
   "execution_count": 5,
   "id": "8b1ce77c-a57c-4539-ae32-445e6344110c",
   "metadata": {},
   "outputs": [
    {
     "name": "stdout",
     "output_type": "stream",
     "text": [
      "Saving images...\n"
     ]
    }
   ],
   "source": [
    "# making folders\n",
    "outer_names = ['test','train']\n",
    "inner_names = ['angry', 'disgusted', 'fearful', 'happy', 'sad', 'surprised', 'neutral']\n",
    "os.makedirs('data', exist_ok=True)\n",
    "for outer_name in outer_names:\n",
    "    os.makedirs(os.path.join('data',outer_name), exist_ok=True)\n",
    "    for inner_name in inner_names:\n",
    "        os.makedirs(os.path.join('data',outer_name,inner_name), exist_ok=True)\n",
    "\n",
    "# to keep count of each category\n",
    "angry = 0\n",
    "disgusted = 0\n",
    "fearful = 0\n",
    "happy = 0\n",
    "sad = 0\n",
    "surprised = 0\n",
    "neutral = 0\n",
    "angry_test = 0\n",
    "disgusted_test = 0\n",
    "fearful_test = 0\n",
    "happy_test = 0\n",
    "sad_test = 0\n",
    "surprised_test = 0\n",
    "neutral_test = 0\n",
    "\n",
    "df = pd.read_csv('./fer2013.csv')\n",
    "mat = np.zeros((48,48),dtype=np.uint8)\n",
    "print(\"Saving images...\")\n"
   ]
  },
  {
   "cell_type": "code",
   "execution_count": 9,
   "id": "47d8a65f-b5ad-48da-99c1-8a825724e702",
   "metadata": {},
   "outputs": [
    {
     "name": "stderr",
     "output_type": "stream",
     "text": [
      "100%|██████████| 35887/35887 [02:03<00:00, 290.32it/s]\n"
     ]
    },
    {
     "name": "stdout",
     "output_type": "stream",
     "text": [
      "Done!\n"
     ]
    }
   ],
   "source": [
    "# read the csv file line by line\n",
    "for i in tqdm(range(len(df))):\n",
    "    txt = df['pixels'][i]\n",
    "    words = txt.split()\n",
    "    \n",
    "    # the image size is 48x48\n",
    "    for j in range(2304):\n",
    "        xind = j // 48\n",
    "        yind = j % 48\n",
    "        mat[xind][yind] = atoi(words[j])\n",
    "\n",
    "    img = Image.fromarray(mat)\n",
    "\n",
    "    # train\n",
    "    if i < 28709:\n",
    "        if df['emotion'][i] == 0:\n",
    "            img.save('./data/train/angry/im'+str(angry)+'.png')\n",
    "            angry += 1\n",
    "        elif df['emotion'][i] == 1:\n",
    "            img.save('./data/train/disgusted/im'+str(disgusted)+'.png')\n",
    "            disgusted += 1\n",
    "        elif df['emotion'][i] == 2:\n",
    "            img.save('./data/train/fearful/im'+str(fearful)+'.png')\n",
    "            fearful += 1\n",
    "        elif df['emotion'][i] == 3:\n",
    "            img.save('./data/train/happy/im'+str(happy)+'.png')\n",
    "            happy += 1\n",
    "        elif df['emotion'][i] == 4:\n",
    "            img.save('./data/train/sad/im'+str(sad)+'.png')\n",
    "            sad += 1\n",
    "        elif df['emotion'][i] == 5:\n",
    "            img.save('./data/train/surprised/im'+str(surprised)+'.png')\n",
    "            surprised += 1\n",
    "        elif df['emotion'][i] == 6:\n",
    "            img.save('./data/train/neutral/im'+str(neutral)+'.png')\n",
    "            neutral += 1\n",
    "\n",
    "    # test\n",
    "    else:\n",
    "        if df['emotion'][i] == 0:\n",
    "            img.save('./data/test/angry/im'+str(angry_test)+'.png')\n",
    "            angry_test += 1\n",
    "        elif df['emotion'][i] == 1:\n",
    "            img.save('./data/test/disgusted/im'+str(disgusted_test)+'.png')\n",
    "            disgusted_test += 1\n",
    "        elif df['emotion'][i] == 2:\n",
    "            img.save('./data/test/fearful/im'+str(fearful_test)+'.png')\n",
    "            fearful_test += 1\n",
    "        elif df['emotion'][i] == 3:\n",
    "            img.save('./data/test/happy/im'+str(happy_test)+'.png')\n",
    "            happy_test += 1\n",
    "        elif df['emotion'][i] == 4:\n",
    "            img.save('./data/test/sad/im'+str(sad_test)+'.png')\n",
    "            sad_test += 1\n",
    "        elif df['emotion'][i] == 5:\n",
    "            img.save('./data/test/surprised/im'+str(surprised_test)+'.png')\n",
    "            surprised_test += 1\n",
    "        elif df['emotion'][i] == 6:\n",
    "            img.save('./data/test/neutral/im'+str(neutral_test)+'.png')\n",
    "            neutral_test += 1\n",
    "\n",
    "print(\"Done!\")"
   ]
  },
  {
   "cell_type": "code",
   "execution_count": null,
   "id": "9c5a2566-d7e1-4960-bd64-cb53db11e5c5",
   "metadata": {},
   "outputs": [],
   "source": []
  }
 ],
 "metadata": {
  "kernelspec": {
   "display_name": "Python [conda env:base] *",
   "language": "python",
   "name": "conda-base-py"
  },
  "language_info": {
   "codemirror_mode": {
    "name": "ipython",
    "version": 3
   },
   "file_extension": ".py",
   "mimetype": "text/x-python",
   "name": "python",
   "nbconvert_exporter": "python",
   "pygments_lexer": "ipython3",
   "version": "3.12.4"
  }
 },
 "nbformat": 4,
 "nbformat_minor": 5
}
